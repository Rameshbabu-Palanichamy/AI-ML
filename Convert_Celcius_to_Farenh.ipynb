{
  "nbformat": 4,
  "nbformat_minor": 0,
  "metadata": {
    "colab": {
      "name": "Convert Celcius to Farenh.ipynb",
      "provenance": [],
      "collapsed_sections": [],
      "include_colab_link": true
    },
    "kernelspec": {
      "name": "python3",
      "display_name": "Python 3"
    }
  },
  "cells": [
    {
      "cell_type": "markdown",
      "metadata": {
        "id": "view-in-github",
        "colab_type": "text"
      },
      "source": [
        "<a href=\"https://colab.research.google.com/github/rameshbabuatreyu/AI-ML/blob/master/Convert_Celcius_to_Farenh.ipynb\" target=\"_parent\"><img src=\"https://colab.research.google.com/assets/colab-badge.svg\" alt=\"Open In Colab\"/></a>"
      ]
    },
    {
      "cell_type": "code",
      "metadata": {
        "id": "IbkVjgowmi3E",
        "colab_type": "code",
        "colab": {
          "base_uri": "https://localhost:8080/",
          "height": 575
        },
        "outputId": "672b212a-3479-4f85-99ab-351030addfb1"
      },
      "source": [
        "!pip install tensorflow-gpu==2.0.0.alpha0"
      ],
      "execution_count": 3,
      "outputs": [
        {
          "output_type": "stream",
          "text": [
            "Collecting tensorflow-gpu==2.0.0.alpha0\n",
            "\u001b[?25l  Downloading https://files.pythonhosted.org/packages/1a/66/32cffad095253219d53f6b6c2a436637bbe45ac4e7be0244557210dc3918/tensorflow_gpu-2.0.0a0-cp36-cp36m-manylinux1_x86_64.whl (332.1MB)\n",
            "\u001b[K     |████████████████████████████████| 332.1MB 46kB/s \n",
            "\u001b[?25hRequirement already satisfied: wheel>=0.26 in /usr/local/lib/python3.6/dist-packages (from tensorflow-gpu==2.0.0.alpha0) (0.33.6)\n",
            "Requirement already satisfied: grpcio>=1.8.6 in /usr/local/lib/python3.6/dist-packages (from tensorflow-gpu==2.0.0.alpha0) (1.15.0)\n",
            "Requirement already satisfied: six>=1.10.0 in /usr/local/lib/python3.6/dist-packages (from tensorflow-gpu==2.0.0.alpha0) (1.12.0)\n",
            "Requirement already satisfied: google-pasta>=0.1.2 in /usr/local/lib/python3.6/dist-packages (from tensorflow-gpu==2.0.0.alpha0) (0.1.8)\n",
            "Requirement already satisfied: protobuf>=3.6.1 in /usr/local/lib/python3.6/dist-packages (from tensorflow-gpu==2.0.0.alpha0) (3.10.0)\n",
            "Requirement already satisfied: numpy<2.0,>=1.14.5 in /usr/local/lib/python3.6/dist-packages (from tensorflow-gpu==2.0.0.alpha0) (1.17.4)\n",
            "Collecting tb-nightly<1.14.0a20190302,>=1.14.0a20190301\n",
            "\u001b[?25l  Downloading https://files.pythonhosted.org/packages/a9/51/aa1d756644bf4624c03844115e4ac4058eff77acd786b26315f051a4b195/tb_nightly-1.14.0a20190301-py3-none-any.whl (3.0MB)\n",
            "\u001b[K     |████████████████████████████████| 3.0MB 36.2MB/s \n",
            "\u001b[?25hRequirement already satisfied: keras-applications>=1.0.6 in /usr/local/lib/python3.6/dist-packages (from tensorflow-gpu==2.0.0.alpha0) (1.0.8)\n",
            "Requirement already satisfied: keras-preprocessing>=1.0.5 in /usr/local/lib/python3.6/dist-packages (from tensorflow-gpu==2.0.0.alpha0) (1.1.0)\n",
            "Collecting tf-estimator-nightly<1.14.0.dev2019030116,>=1.14.0.dev2019030115\n",
            "\u001b[?25l  Downloading https://files.pythonhosted.org/packages/13/82/f16063b4eed210dc2ab057930ac1da4fbe1e91b7b051a6c8370b401e6ae7/tf_estimator_nightly-1.14.0.dev2019030115-py2.py3-none-any.whl (411kB)\n",
            "\u001b[K     |████████████████████████████████| 419kB 61.1MB/s \n",
            "\u001b[?25hRequirement already satisfied: termcolor>=1.1.0 in /usr/local/lib/python3.6/dist-packages (from tensorflow-gpu==2.0.0.alpha0) (1.1.0)\n",
            "Requirement already satisfied: absl-py>=0.7.0 in /usr/local/lib/python3.6/dist-packages (from tensorflow-gpu==2.0.0.alpha0) (0.8.1)\n",
            "Requirement already satisfied: gast>=0.2.0 in /usr/local/lib/python3.6/dist-packages (from tensorflow-gpu==2.0.0.alpha0) (0.2.2)\n",
            "Requirement already satisfied: astor>=0.6.0 in /usr/local/lib/python3.6/dist-packages (from tensorflow-gpu==2.0.0.alpha0) (0.8.0)\n",
            "Requirement already satisfied: setuptools in /usr/local/lib/python3.6/dist-packages (from protobuf>=3.6.1->tensorflow-gpu==2.0.0.alpha0) (41.6.0)\n",
            "Requirement already satisfied: markdown>=2.6.8 in /usr/local/lib/python3.6/dist-packages (from tb-nightly<1.14.0a20190302,>=1.14.0a20190301->tensorflow-gpu==2.0.0.alpha0) (3.1.1)\n",
            "Requirement already satisfied: werkzeug>=0.11.15 in /usr/local/lib/python3.6/dist-packages (from tb-nightly<1.14.0a20190302,>=1.14.0a20190301->tensorflow-gpu==2.0.0.alpha0) (0.16.0)\n",
            "Requirement already satisfied: h5py in /usr/local/lib/python3.6/dist-packages (from keras-applications>=1.0.6->tensorflow-gpu==2.0.0.alpha0) (2.8.0)\n",
            "Installing collected packages: tb-nightly, tf-estimator-nightly, tensorflow-gpu\n",
            "Successfully installed tb-nightly-1.14.0a20190301 tensorflow-gpu-2.0.0a0 tf-estimator-nightly-1.14.0.dev2019030115\n"
          ],
          "name": "stdout"
        },
        {
          "output_type": "display_data",
          "data": {
            "application/vnd.colab-display-data+json": {
              "pip_warning": {
                "packages": [
                  "tensorboard",
                  "tensorflow",
                  "tensorflow_estimator"
                ]
              }
            }
          },
          "metadata": {
            "tags": []
          }
        }
      ]
    },
    {
      "cell_type": "markdown",
      "metadata": {
        "id": "RbnP-T72nZuN",
        "colab_type": "text"
      },
      "source": [
        "Importing libraries"
      ]
    },
    {
      "cell_type": "code",
      "metadata": {
        "id": "8M0ruHQHmt2E",
        "colab_type": "code",
        "colab": {}
      },
      "source": [
        "import tensorflow as tf\n",
        "import numpy as np\n",
        "import pandas as pd\n",
        "import seaborn as sns\n",
        "import matplotlib.pyplot as plt"
      ],
      "execution_count": 0,
      "outputs": []
    },
    {
      "cell_type": "markdown",
      "metadata": {
        "id": "6lfbVQ-WoP5R",
        "colab_type": "text"
      },
      "source": [
        "Connect to google drive"
      ]
    },
    {
      "cell_type": "code",
      "metadata": {
        "id": "h1Ab1IX_m3Q8",
        "colab_type": "code",
        "colab": {
          "base_uri": "https://localhost:8080/",
          "height": 121
        },
        "outputId": "bb6dfe19-a278-4b15-c084-dba1926ff4b9"
      },
      "source": [
        "from google.colab import drive\n",
        "drive.mount(\"/content/drive\")"
      ],
      "execution_count": 5,
      "outputs": [
        {
          "output_type": "stream",
          "text": [
            "Go to this URL in a browser: https://accounts.google.com/o/oauth2/auth?client_id=947318989803-6bn6qk8qdgf4n4g3pfee6491hc0brc4i.apps.googleusercontent.com&redirect_uri=urn%3aietf%3awg%3aoauth%3a2.0%3aoob&response_type=code&scope=email%20https%3a%2f%2fwww.googleapis.com%2fauth%2fdocs.test%20https%3a%2f%2fwww.googleapis.com%2fauth%2fdrive%20https%3a%2f%2fwww.googleapis.com%2fauth%2fdrive.photos.readonly%20https%3a%2f%2fwww.googleapis.com%2fauth%2fpeopleapi.readonly\n",
            "\n",
            "Enter your authorization code:\n",
            "··········\n",
            "Mounted at /content/drive\n"
          ],
          "name": "stdout"
        }
      ]
    },
    {
      "cell_type": "markdown",
      "metadata": {
        "id": "TZBBg2XisFrC",
        "colab_type": "text"
      },
      "source": [
        "Upload Dataset"
      ]
    },
    {
      "cell_type": "code",
      "metadata": {
        "id": "gtd2YUfFoJDY",
        "colab_type": "code",
        "colab": {}
      },
      "source": [
        "temp_file=pd.read_csv('/content/Celsius-to-Fahrenheit.csv')"
      ],
      "execution_count": 0,
      "outputs": []
    },
    {
      "cell_type": "code",
      "metadata": {
        "id": "HnaGeJojo_6y",
        "colab_type": "code",
        "colab": {
          "base_uri": "https://localhost:8080/",
          "height": 343
        },
        "outputId": "58930f41-8d22-49b2-9397-368980b87bfb"
      },
      "source": [
        "temp_file.head(10)"
      ],
      "execution_count": 8,
      "outputs": [
        {
          "output_type": "execute_result",
          "data": {
            "text/html": [
              "<div>\n",
              "<style scoped>\n",
              "    .dataframe tbody tr th:only-of-type {\n",
              "        vertical-align: middle;\n",
              "    }\n",
              "\n",
              "    .dataframe tbody tr th {\n",
              "        vertical-align: top;\n",
              "    }\n",
              "\n",
              "    .dataframe thead th {\n",
              "        text-align: right;\n",
              "    }\n",
              "</style>\n",
              "<table border=\"1\" class=\"dataframe\">\n",
              "  <thead>\n",
              "    <tr style=\"text-align: right;\">\n",
              "      <th></th>\n",
              "      <th>Celsius</th>\n",
              "      <th>Fahrenheit</th>\n",
              "    </tr>\n",
              "  </thead>\n",
              "  <tbody>\n",
              "    <tr>\n",
              "      <th>0</th>\n",
              "      <td>-50</td>\n",
              "      <td>-58.0</td>\n",
              "    </tr>\n",
              "    <tr>\n",
              "      <th>1</th>\n",
              "      <td>-40</td>\n",
              "      <td>-40.0</td>\n",
              "    </tr>\n",
              "    <tr>\n",
              "      <th>2</th>\n",
              "      <td>-30</td>\n",
              "      <td>-22.0</td>\n",
              "    </tr>\n",
              "    <tr>\n",
              "      <th>3</th>\n",
              "      <td>-20</td>\n",
              "      <td>-4.0</td>\n",
              "    </tr>\n",
              "    <tr>\n",
              "      <th>4</th>\n",
              "      <td>-10</td>\n",
              "      <td>14.0</td>\n",
              "    </tr>\n",
              "    <tr>\n",
              "      <th>5</th>\n",
              "      <td>-9</td>\n",
              "      <td>15.8</td>\n",
              "    </tr>\n",
              "    <tr>\n",
              "      <th>6</th>\n",
              "      <td>-8</td>\n",
              "      <td>17.6</td>\n",
              "    </tr>\n",
              "    <tr>\n",
              "      <th>7</th>\n",
              "      <td>-7</td>\n",
              "      <td>19.4</td>\n",
              "    </tr>\n",
              "    <tr>\n",
              "      <th>8</th>\n",
              "      <td>-6</td>\n",
              "      <td>21.2</td>\n",
              "    </tr>\n",
              "    <tr>\n",
              "      <th>9</th>\n",
              "      <td>-5</td>\n",
              "      <td>23.0</td>\n",
              "    </tr>\n",
              "  </tbody>\n",
              "</table>\n",
              "</div>"
            ],
            "text/plain": [
              "   Celsius  Fahrenheit\n",
              "0      -50       -58.0\n",
              "1      -40       -40.0\n",
              "2      -30       -22.0\n",
              "3      -20        -4.0\n",
              "4      -10        14.0\n",
              "5       -9        15.8\n",
              "6       -8        17.6\n",
              "7       -7        19.4\n",
              "8       -6        21.2\n",
              "9       -5        23.0"
            ]
          },
          "metadata": {
            "tags": []
          },
          "execution_count": 8
        }
      ]
    },
    {
      "cell_type": "code",
      "metadata": {
        "id": "yvbhBM--pJir",
        "colab_type": "code",
        "colab": {
          "base_uri": "https://localhost:8080/",
          "height": 284
        },
        "outputId": "e31e1a71-0d00-4e59-8fec-13f71b3d384b"
      },
      "source": [
        "temp_file.describe()"
      ],
      "execution_count": 9,
      "outputs": [
        {
          "output_type": "execute_result",
          "data": {
            "text/html": [
              "<div>\n",
              "<style scoped>\n",
              "    .dataframe tbody tr th:only-of-type {\n",
              "        vertical-align: middle;\n",
              "    }\n",
              "\n",
              "    .dataframe tbody tr th {\n",
              "        vertical-align: top;\n",
              "    }\n",
              "\n",
              "    .dataframe thead th {\n",
              "        text-align: right;\n",
              "    }\n",
              "</style>\n",
              "<table border=\"1\" class=\"dataframe\">\n",
              "  <thead>\n",
              "    <tr style=\"text-align: right;\">\n",
              "      <th></th>\n",
              "      <th>Celsius</th>\n",
              "      <th>Fahrenheit</th>\n",
              "    </tr>\n",
              "  </thead>\n",
              "  <tbody>\n",
              "    <tr>\n",
              "      <th>count</th>\n",
              "      <td>30.000000</td>\n",
              "      <td>30.000000</td>\n",
              "    </tr>\n",
              "    <tr>\n",
              "      <th>mean</th>\n",
              "      <td>2.000000</td>\n",
              "      <td>35.600000</td>\n",
              "    </tr>\n",
              "    <tr>\n",
              "      <th>std</th>\n",
              "      <td>22.780815</td>\n",
              "      <td>41.005466</td>\n",
              "    </tr>\n",
              "    <tr>\n",
              "      <th>min</th>\n",
              "      <td>-50.000000</td>\n",
              "      <td>-58.000000</td>\n",
              "    </tr>\n",
              "    <tr>\n",
              "      <th>25%</th>\n",
              "      <td>-6.750000</td>\n",
              "      <td>19.850000</td>\n",
              "    </tr>\n",
              "    <tr>\n",
              "      <th>50%</th>\n",
              "      <td>0.500000</td>\n",
              "      <td>32.900000</td>\n",
              "    </tr>\n",
              "    <tr>\n",
              "      <th>75%</th>\n",
              "      <td>7.750000</td>\n",
              "      <td>45.950000</td>\n",
              "    </tr>\n",
              "    <tr>\n",
              "      <th>max</th>\n",
              "      <td>60.000000</td>\n",
              "      <td>140.000000</td>\n",
              "    </tr>\n",
              "  </tbody>\n",
              "</table>\n",
              "</div>"
            ],
            "text/plain": [
              "         Celsius  Fahrenheit\n",
              "count  30.000000   30.000000\n",
              "mean    2.000000   35.600000\n",
              "std    22.780815   41.005466\n",
              "min   -50.000000  -58.000000\n",
              "25%    -6.750000   19.850000\n",
              "50%     0.500000   32.900000\n",
              "75%     7.750000   45.950000\n",
              "max    60.000000  140.000000"
            ]
          },
          "metadata": {
            "tags": []
          },
          "execution_count": 9
        }
      ]
    },
    {
      "cell_type": "code",
      "metadata": {
        "id": "nTfUnmdmpTyr",
        "colab_type": "code",
        "colab": {
          "base_uri": "https://localhost:8080/",
          "height": 343
        },
        "outputId": "5affb1f0-13fb-4d54-bc8f-e5ee0ff16dd0"
      },
      "source": [
        "temp_file.tail(10)"
      ],
      "execution_count": 10,
      "outputs": [
        {
          "output_type": "execute_result",
          "data": {
            "text/html": [
              "<div>\n",
              "<style scoped>\n",
              "    .dataframe tbody tr th:only-of-type {\n",
              "        vertical-align: middle;\n",
              "    }\n",
              "\n",
              "    .dataframe tbody tr th {\n",
              "        vertical-align: top;\n",
              "    }\n",
              "\n",
              "    .dataframe thead th {\n",
              "        text-align: right;\n",
              "    }\n",
              "</style>\n",
              "<table border=\"1\" class=\"dataframe\">\n",
              "  <thead>\n",
              "    <tr style=\"text-align: right;\">\n",
              "      <th></th>\n",
              "      <th>Celsius</th>\n",
              "      <th>Fahrenheit</th>\n",
              "    </tr>\n",
              "  </thead>\n",
              "  <tbody>\n",
              "    <tr>\n",
              "      <th>20</th>\n",
              "      <td>6</td>\n",
              "      <td>42.8</td>\n",
              "    </tr>\n",
              "    <tr>\n",
              "      <th>21</th>\n",
              "      <td>7</td>\n",
              "      <td>44.6</td>\n",
              "    </tr>\n",
              "    <tr>\n",
              "      <th>22</th>\n",
              "      <td>8</td>\n",
              "      <td>46.4</td>\n",
              "    </tr>\n",
              "    <tr>\n",
              "      <th>23</th>\n",
              "      <td>9</td>\n",
              "      <td>48.2</td>\n",
              "    </tr>\n",
              "    <tr>\n",
              "      <th>24</th>\n",
              "      <td>10</td>\n",
              "      <td>50.0</td>\n",
              "    </tr>\n",
              "    <tr>\n",
              "      <th>25</th>\n",
              "      <td>20</td>\n",
              "      <td>68.0</td>\n",
              "    </tr>\n",
              "    <tr>\n",
              "      <th>26</th>\n",
              "      <td>30</td>\n",
              "      <td>86.0</td>\n",
              "    </tr>\n",
              "    <tr>\n",
              "      <th>27</th>\n",
              "      <td>40</td>\n",
              "      <td>104.0</td>\n",
              "    </tr>\n",
              "    <tr>\n",
              "      <th>28</th>\n",
              "      <td>50</td>\n",
              "      <td>122.0</td>\n",
              "    </tr>\n",
              "    <tr>\n",
              "      <th>29</th>\n",
              "      <td>60</td>\n",
              "      <td>140.0</td>\n",
              "    </tr>\n",
              "  </tbody>\n",
              "</table>\n",
              "</div>"
            ],
            "text/plain": [
              "    Celsius  Fahrenheit\n",
              "20        6        42.8\n",
              "21        7        44.6\n",
              "22        8        46.4\n",
              "23        9        48.2\n",
              "24       10        50.0\n",
              "25       20        68.0\n",
              "26       30        86.0\n",
              "27       40       104.0\n",
              "28       50       122.0\n",
              "29       60       140.0"
            ]
          },
          "metadata": {
            "tags": []
          },
          "execution_count": 10
        }
      ]
    },
    {
      "cell_type": "code",
      "metadata": {
        "id": "-6ZQyw3EpYi9",
        "colab_type": "code",
        "colab": {
          "base_uri": "https://localhost:8080/",
          "height": 134
        },
        "outputId": "d3534a4d-1ce0-4dcc-a918-8b683d8b7f76"
      },
      "source": [
        "temp_file.info()"
      ],
      "execution_count": 11,
      "outputs": [
        {
          "output_type": "stream",
          "text": [
            "<class 'pandas.core.frame.DataFrame'>\n",
            "RangeIndex: 30 entries, 0 to 29\n",
            "Data columns (total 2 columns):\n",
            "Celsius       30 non-null int64\n",
            "Fahrenheit    30 non-null float64\n",
            "dtypes: float64(1), int64(1)\n",
            "memory usage: 608.0 bytes\n"
          ],
          "name": "stdout"
        }
      ]
    },
    {
      "cell_type": "code",
      "metadata": {
        "id": "u5jUUfnppyH9",
        "colab_type": "code",
        "colab": {
          "base_uri": "https://localhost:8080/",
          "height": 296
        },
        "outputId": "7f982c02-2462-4d0f-e29a-272ba5f505d5"
      },
      "source": [
        "sns.scatterplot(temp_file['Celsius'],temp_file['Fahrenheit'])"
      ],
      "execution_count": 12,
      "outputs": [
        {
          "output_type": "execute_result",
          "data": {
            "text/plain": [
              "<matplotlib.axes._subplots.AxesSubplot at 0x7fb3729547b8>"
            ]
          },
          "metadata": {
            "tags": []
          },
          "execution_count": 12
        },
        {
          "output_type": "display_data",
          "data": {
            "image/png": "[encoded data removed]",
            "text/plain": [
              "<Figure size 432x288 with 1 Axes>"
            ]
          },
          "metadata": {
            "tags": []
          }
        }
      ]
    },
    {
      "cell_type": "markdown",
      "metadata": {
        "id": "U727MdVgsNRc",
        "colab_type": "text"
      },
      "source": [
        "Build Model"
      ]
    },
    {
      "cell_type": "code",
      "metadata": {
        "id": "RdBaqqjLqiJQ",
        "colab_type": "code",
        "colab": {}
      },
      "source": [
        "X_train=temp_file['Celsius']\n",
        "y_train=temp_file['Fahrenheit']"
      ],
      "execution_count": 0,
      "outputs": []
    },
    {
      "cell_type": "code",
      "metadata": {
        "id": "OQ97iw1UsPdg",
        "colab_type": "code",
        "colab": {
          "base_uri": "https://localhost:8080/",
          "height": 34
        },
        "outputId": "3c66bd3b-7887-4942-b75d-217c7fa523d1"
      },
      "source": [
        "X_train.shape"
      ],
      "execution_count": 14,
      "outputs": [
        {
          "output_type": "execute_result",
          "data": {
            "text/plain": [
              "(30,)"
            ]
          },
          "metadata": {
            "tags": []
          },
          "execution_count": 14
        }
      ]
    },
    {
      "cell_type": "code",
      "metadata": {
        "id": "nqSY-lursgSB",
        "colab_type": "code",
        "colab": {
          "base_uri": "https://localhost:8080/",
          "height": 34
        },
        "outputId": "e0c46bd4-fc3f-4c48-daad-56a29c603005"
      },
      "source": [
        "y_train.shape"
      ],
      "execution_count": 15,
      "outputs": [
        {
          "output_type": "execute_result",
          "data": {
            "text/plain": [
              "(30,)"
            ]
          },
          "metadata": {
            "tags": []
          },
          "execution_count": 15
        }
      ]
    },
    {
      "cell_type": "code",
      "metadata": {
        "id": "g-jHR-SIsiPP",
        "colab_type": "code",
        "colab": {}
      },
      "source": [
        "model=tf.keras.Sequential()\n",
        "model.add(tf.keras.layers.Dense(units=1,input_shape=[1]))"
      ],
      "execution_count": 0,
      "outputs": []
    },
    {
      "cell_type": "code",
      "metadata": {
        "id": "J7XUPTGUt1yu",
        "colab_type": "code",
        "colab": {
          "base_uri": "https://localhost:8080/",
          "height": 185
        },
        "outputId": "ad6a7491-bb79-44c7-b980-66f6a9b8b4d9"
      },
      "source": [
        "model.summary()"
      ],
      "execution_count": 29,
      "outputs": [
        {
          "output_type": "stream",
          "text": [
            "Model: \"sequential_3\"\n",
            "_________________________________________________________________\n",
            "Layer (type)                 Output Shape              Param #   \n",
            "=================================================================\n",
            "dense_3 (Dense)              (None, 1)                 2         \n",
            "=================================================================\n",
            "Total params: 2\n",
            "Trainable params: 2\n",
            "Non-trainable params: 0\n",
            "_________________________________________________________________\n"
          ],
          "name": "stdout"
        }
      ]
    },
    {
      "cell_type": "code",
      "metadata": {
        "id": "-8rD9Jldt6FR",
        "colab_type": "code",
        "colab": {}
      },
      "source": [
        "model.compile(optimizer=tf.keras.optimizers.Adam(0.9),loss=\"mean_squared_error\")"
      ],
      "execution_count": 0,
      "outputs": []
    },
    {
      "cell_type": "code",
      "metadata": {
        "id": "b8HUpniju7v8",
        "colab_type": "code",
        "colab": {
          "base_uri": "https://localhost:8080/",
          "height": 1000
        },
        "outputId": "8ad1aec6-ded9-4c08-b3c3-6083e933b036"
      },
      "source": [
        "epochs_hist=model.fit(X_train,y_train,epochs=100)"
      ],
      "execution_count": 33,
      "outputs": [
        {
          "output_type": "stream",
          "text": [
            "Train on 30 samples\n",
            "Epoch 1/100\n",
            "30/30 [==============================] - 0s 3ms/sample - loss: 506.8672\n",
            "Epoch 2/100\n",
            "30/30 [==============================] - 0s 150us/sample - loss: 872.4754\n",
            "Epoch 3/100\n",
            "30/30 [==============================] - 0s 167us/sample - loss: 454.4068\n",
            "Epoch 4/100\n",
            "30/30 [==============================] - 0s 143us/sample - loss: 482.8860\n",
            "Epoch 5/100\n",
            "30/30 [==============================] - 0s 134us/sample - loss: 595.7272\n",
            "Epoch 6/100\n",
            "30/30 [==============================] - 0s 63us/sample - loss: 505.2430\n",
            "Epoch 7/100\n",
            "30/30 [==============================] - 0s 150us/sample - loss: 347.4723\n",
            "Epoch 8/100\n",
            "30/30 [==============================] - 0s 57us/sample - loss: 266.6219\n",
            "Epoch 9/100\n",
            "30/30 [==============================] - 0s 136us/sample - loss: 287.2245\n",
            "Epoch 10/100\n",
            "30/30 [==============================] - 0s 100us/sample - loss: 323.0678\n",
            "Epoch 11/100\n",
            "30/30 [==============================] - 0s 80us/sample - loss: 297.8392\n",
            "Epoch 12/100\n",
            "30/30 [==============================] - 0s 102us/sample - loss: 222.7337\n",
            "Epoch 13/100\n",
            "30/30 [==============================] - 0s 78us/sample - loss: 154.0212\n",
            "Epoch 14/100\n",
            "30/30 [==============================] - 0s 85us/sample - loss: 130.7072\n",
            "Epoch 15/100\n",
            "30/30 [==============================] - 0s 126us/sample - loss: 144.3239\n",
            "Epoch 16/100\n",
            "30/30 [==============================] - 0s 81us/sample - loss: 154.5585\n",
            "Epoch 17/100\n",
            "30/30 [==============================] - 0s 102us/sample - loss: 134.4462\n",
            "Epoch 18/100\n",
            "30/30 [==============================] - 0s 51us/sample - loss: 92.9542\n",
            "Epoch 19/100\n",
            "30/30 [==============================] - 0s 50us/sample - loss: 58.1051\n",
            "Epoch 20/100\n",
            "30/30 [==============================] - 0s 98us/sample - loss: 48.1837\n",
            "Epoch 21/100\n",
            "30/30 [==============================] - 0s 76us/sample - loss: 56.7827\n",
            "Epoch 22/100\n",
            "30/30 [==============================] - 0s 51us/sample - loss: 62.3539\n",
            "Epoch 23/100\n",
            "30/30 [==============================] - 0s 53us/sample - loss: 51.3535\n",
            "Epoch 24/100\n",
            "30/30 [==============================] - 0s 47us/sample - loss: 29.6666\n",
            "Epoch 25/100\n",
            "30/30 [==============================] - 0s 100us/sample - loss: 13.2944\n",
            "Epoch 26/100\n",
            "30/30 [==============================] - 0s 48us/sample - loss: 11.5171\n",
            "Epoch 27/100\n",
            "30/30 [==============================] - 0s 56us/sample - loss: 18.9506\n",
            "Epoch 28/100\n",
            "30/30 [==============================] - 0s 85us/sample - loss: 22.8526\n",
            "Epoch 29/100\n",
            "30/30 [==============================] - 0s 60us/sample - loss: 16.8660\n",
            "Epoch 30/100\n",
            "30/30 [==============================] - 0s 54us/sample - loss: 6.1974\n",
            "Epoch 31/100\n",
            "30/30 [==============================] - 0s 47us/sample - loss: 0.4165\n",
            "Epoch 32/100\n",
            "30/30 [==============================] - 0s 59us/sample - loss: 3.1207\n",
            "Epoch 33/100\n",
            "30/30 [==============================] - 0s 64us/sample - loss: 9.0753\n",
            "Epoch 34/100\n",
            "30/30 [==============================] - 0s 80us/sample - loss: 10.8573\n",
            "Epoch 35/100\n",
            "30/30 [==============================] - 0s 58us/sample - loss: 6.8931\n",
            "Epoch 36/100\n",
            "30/30 [==============================] - 0s 61us/sample - loss: 2.1094\n",
            "Epoch 37/100\n",
            "30/30 [==============================] - 0s 53us/sample - loss: 1.6488\n",
            "Epoch 38/100\n",
            "30/30 [==============================] - 0s 65us/sample - loss: 5.3064\n",
            "Epoch 39/100\n",
            "30/30 [==============================] - 0s 71us/sample - loss: 8.5061\n",
            "Epoch 40/100\n",
            "30/30 [==============================] - 0s 65us/sample - loss: 7.9395\n",
            "Epoch 41/100\n",
            "30/30 [==============================] - 0s 68us/sample - loss: 4.9901\n",
            "Epoch 42/100\n",
            "30/30 [==============================] - 0s 68us/sample - loss: 3.4340\n",
            "Epoch 43/100\n",
            "30/30 [==============================] - 0s 79us/sample - loss: 4.8259\n",
            "Epoch 44/100\n",
            "30/30 [==============================] - 0s 60us/sample - loss: 7.0681\n",
            "Epoch 45/100\n",
            "30/30 [==============================] - 0s 72us/sample - loss: 7.3666\n",
            "Epoch 46/100\n",
            "30/30 [==============================] - 0s 56us/sample - loss: 5.5674\n",
            "Epoch 47/100\n",
            "30/30 [==============================] - 0s 69us/sample - loss: 3.9204\n",
            "Epoch 48/100\n",
            "30/30 [==============================] - 0s 67us/sample - loss: 4.0681\n",
            "Epoch 49/100\n",
            "30/30 [==============================] - 0s 63us/sample - loss: 5.2035\n",
            "Epoch 50/100\n",
            "30/30 [==============================] - 0s 56us/sample - loss: 5.4267\n",
            "Epoch 51/100\n",
            "30/30 [==============================] - 0s 74us/sample - loss: 4.2192\n",
            "Epoch 52/100\n",
            "30/30 [==============================] - 0s 71us/sample - loss: 2.8651\n",
            "Epoch 53/100\n",
            "30/30 [==============================] - 0s 71us/sample - loss: 2.6021\n",
            "Epoch 54/100\n",
            "30/30 [==============================] - 0s 88us/sample - loss: 3.1105\n",
            "Epoch 55/100\n",
            "30/30 [==============================] - 0s 66us/sample - loss: 3.1684\n",
            "Epoch 56/100\n",
            "30/30 [==============================] - 0s 68us/sample - loss: 2.3392\n",
            "Epoch 57/100\n",
            "30/30 [==============================] - 0s 56us/sample - loss: 1.4053\n",
            "Epoch 58/100\n",
            "30/30 [==============================] - 0s 61us/sample - loss: 1.1797\n",
            "Epoch 59/100\n",
            "30/30 [==============================] - 0s 70us/sample - loss: 1.4616\n",
            "Epoch 60/100\n",
            "30/30 [==============================] - 0s 63us/sample - loss: 1.4624\n",
            "Epoch 61/100\n",
            "30/30 [==============================] - 0s 65us/sample - loss: 0.9322\n",
            "Epoch 62/100\n",
            "30/30 [==============================] - 0s 97us/sample - loss: 0.4005\n",
            "Epoch 63/100\n",
            "30/30 [==============================] - 0s 68us/sample - loss: 0.3482\n",
            "Epoch 64/100\n",
            "30/30 [==============================] - 0s 66us/sample - loss: 0.5727\n",
            "Epoch 65/100\n",
            "30/30 [==============================] - 0s 87us/sample - loss: 0.5692\n",
            "Epoch 66/100\n",
            "30/30 [==============================] - 0s 64us/sample - loss: 0.2597\n",
            "Epoch 67/100\n",
            "30/30 [==============================] - 0s 85us/sample - loss: 0.0252\n",
            "Epoch 68/100\n",
            "30/30 [==============================] - 0s 70us/sample - loss: 0.1045\n",
            "Epoch 69/100\n",
            "30/30 [==============================] - 0s 61us/sample - loss: 0.2841\n",
            "Epoch 70/100\n",
            "30/30 [==============================] - 0s 58us/sample - loss: 0.2657\n",
            "Epoch 71/100\n",
            "30/30 [==============================] - 0s 84us/sample - loss: 0.0931\n",
            "Epoch 72/100\n",
            "30/30 [==============================] - 0s 69us/sample - loss: 0.0303\n",
            "Epoch 73/100\n",
            "30/30 [==============================] - 0s 53us/sample - loss: 0.1479\n",
            "Epoch 74/100\n",
            "30/30 [==============================] - 0s 87us/sample - loss: 0.2521\n",
            "Epoch 75/100\n",
            "30/30 [==============================] - 0s 68us/sample - loss: 0.2040\n",
            "Epoch 76/100\n",
            "30/30 [==============================] - 0s 86us/sample - loss: 0.1086\n",
            "Epoch 77/100\n",
            "30/30 [==============================] - 0s 65us/sample - loss: 0.1203\n",
            "Epoch 78/100\n",
            "30/30 [==============================] - 0s 60us/sample - loss: 0.2079\n",
            "Epoch 79/100\n",
            "30/30 [==============================] - 0s 95us/sample - loss: 0.2311\n",
            "Epoch 80/100\n",
            "30/30 [==============================] - 0s 57us/sample - loss: 0.1656\n",
            "Epoch 81/100\n",
            "30/30 [==============================] - 0s 63us/sample - loss: 0.1191\n",
            "Epoch 82/100\n",
            "30/30 [==============================] - 0s 67us/sample - loss: 0.1488\n",
            "Epoch 83/100\n",
            "30/30 [==============================] - 0s 61us/sample - loss: 0.1843\n",
            "Epoch 84/100\n",
            "30/30 [==============================] - 0s 76us/sample - loss: 0.1559\n",
            "Epoch 85/100\n",
            "30/30 [==============================] - 0s 66us/sample - loss: 0.1010\n",
            "Epoch 86/100\n",
            "30/30 [==============================] - 0s 92us/sample - loss: 0.0894\n",
            "Epoch 87/100\n",
            "30/30 [==============================] - 0s 72us/sample - loss: 0.1113\n",
            "Epoch 88/100\n",
            "30/30 [==============================] - 0s 74us/sample - loss: 0.1069\n",
            "Epoch 89/100\n",
            "30/30 [==============================] - 0s 63us/sample - loss: 0.0679\n",
            "Epoch 90/100\n",
            "30/30 [==============================] - 0s 67us/sample - loss: 0.0422\n",
            "Epoch 91/100\n",
            "30/30 [==============================] - 0s 68us/sample - loss: 0.0497\n",
            "Epoch 92/100\n",
            "30/30 [==============================] - 0s 71us/sample - loss: 0.0562\n",
            "Epoch 93/100\n",
            "30/30 [==============================] - 0s 70us/sample - loss: 0.0369\n",
            "Epoch 94/100\n",
            "30/30 [==============================] - 0s 60us/sample - loss: 0.0142\n",
            "Epoch 95/100\n",
            "30/30 [==============================] - 0s 65us/sample - loss: 0.0141\n",
            "Epoch 96/100\n",
            "30/30 [==============================] - 0s 65us/sample - loss: 0.0236\n",
            "Epoch 97/100\n",
            "30/30 [==============================] - 0s 61us/sample - loss: 0.0185\n",
            "Epoch 98/100\n",
            "30/30 [==============================] - 0s 64us/sample - loss: 0.0042\n",
            "Epoch 99/100\n",
            "30/30 [==============================] - 0s 63us/sample - loss: 0.0016\n",
            "Epoch 100/100\n",
            "30/30 [==============================] - 0s 64us/sample - loss: 0.0101\n"
          ],
          "name": "stdout"
        }
      ]
    },
    {
      "cell_type": "code",
      "metadata": {
        "id": "Uyx7pIwWvDoV",
        "colab_type": "code",
        "colab": {
          "base_uri": "https://localhost:8080/",
          "height": 34
        },
        "outputId": "446c2919-33f9-4ce4-8d75-49b171558f33"
      },
      "source": [
        "epochs_hist.history.keys()"
      ],
      "execution_count": 34,
      "outputs": [
        {
          "output_type": "execute_result",
          "data": {
            "text/plain": [
              "dict_keys(['loss'])"
            ]
          },
          "metadata": {
            "tags": []
          },
          "execution_count": 34
        }
      ]
    },
    {
      "cell_type": "code",
      "metadata": {
        "id": "dmM-NKnQwqTX",
        "colab_type": "code",
        "colab": {
          "base_uri": "https://localhost:8080/",
          "height": 312
        },
        "outputId": "cefa0ad8-f035-4bf6-af2e-aeca7a806fdf"
      },
      "source": [
        "plt.plot(epochs_hist.history['loss'])\n",
        "plt.title('Model Loss progress during training')\n",
        "plt.xlabel(\"Epochs\")\n",
        "plt.ylabel('Training Loss')\n",
        "plt.legend([\"Training Model Loss\"])"
      ],
      "execution_count": 39,
      "outputs": [
        {
          "output_type": "execute_result",
          "data": {
            "text/plain": [
              "<matplotlib.legend.Legend at 0x7fb367d7c198>"
            ]
          },
          "metadata": {
            "tags": []
          },
          "execution_count": 39
        },
        {
          "output_type": "display_data",
          "data": {
            "image/png": "[encoded data removed]",
            "text/plain": [
              "<Figure size 432x288 with 1 Axes>"
            ]
          },
          "metadata": {
            "tags": []
          }
        }
      ]
    },
    {
      "cell_type": "code",
      "metadata": {
        "id": "t_Y5rHEkwxj0",
        "colab_type": "code",
        "colab": {
          "base_uri": "https://localhost:8080/",
          "height": 34
        },
        "outputId": "75b80e46-302f-4ef7-8d60-ee741e0564d4"
      },
      "source": [
        "model.get_weights()"
      ],
      "execution_count": 40,
      "outputs": [
        {
          "output_type": "execute_result",
          "data": {
            "text/plain": [
              "[array([[1.7951019]], dtype=float32), array([32.013367], dtype=float32)]"
            ]
          },
          "metadata": {
            "tags": []
          },
          "execution_count": 40
        }
      ]
    },
    {
      "cell_type": "code",
      "metadata": {
        "id": "SoIeqUT0xtSx",
        "colab_type": "code",
        "colab": {
          "base_uri": "https://localhost:8080/",
          "height": 34
        },
        "outputId": "6735b875-b4b8-43d4-f8a3-1d31b65c6eb9"
      },
      "source": [
        "Temp_C=15\n",
        "Temp_F=model.predict([Temp_C])\n",
        "print(\"Predicted temp using ANN model: \", Temp_F)"
      ],
      "execution_count": 41,
      "outputs": [
        {
          "output_type": "stream",
          "text": [
            "Predicted temp using ANN model:  [[58.939896]]\n"
          ],
          "name": "stdout"
        }
      ]
    },
    {
      "cell_type": "code",
      "metadata": {
        "id": "tueLjfIny_7d",
        "colab_type": "code",
        "colab": {
          "base_uri": "https://localhost:8080/",
          "height": 34
        },
        "outputId": "ab5df79e-3887-42fb-b165-3a6ddde7335d"
      },
      "source": [
        "Temp_C=0\n",
        "Temp_F=model.predict([Temp_C])\n",
        "print(\"Predicted temp using ANN model: \", Temp_F)"
      ],
      "execution_count": 42,
      "outputs": [
        {
          "output_type": "stream",
          "text": [
            "Predicted temp using ANN model:  [[32.013367]]\n"
          ],
          "name": "stdout"
        }
      ]
    },
    {
      "cell_type": "code",
      "metadata": {
        "id": "J0KhfPEozCo8",
        "colab_type": "code",
        "colab": {
          "base_uri": "https://localhost:8080/",
          "height": 34
        },
        "outputId": "2cfdfb2f-24c8-4d93-c25f-cf7e4c21222c"
      },
      "source": [
        "Temp_C=-32\n",
        "Temp_F=model.predict([Temp_C])\n",
        "print(\"Predicted temp using ANN model: \", Temp_F)"
      ],
      "execution_count": 45,
      "outputs": [
        {
          "output_type": "stream",
          "text": [
            "Predicted temp using ANN model:  [[-25.429893]]\n"
          ],
          "name": "stdout"
        }
      ]
    },
    {
      "cell_type": "code",
      "metadata": {
        "id": "ypsQWrzRzEXq",
        "colab_type": "code",
        "colab": {
          "base_uri": "https://localhost:8080/",
          "height": 34
        },
        "outputId": "ccd24ea8-180c-46f9-a1ea-5975d4ca7720"
      },
      "source": [
        "#Lets confirm through equ\n",
        "\n",
        "Temp_F=9/5*Temp_C+32\n",
        "print(\"Predicted temp using equ: \", Temp_F)\n"
      ],
      "execution_count": 46,
      "outputs": [
        {
          "output_type": "stream",
          "text": [
            "Predicted temp using equ:  -25.6\n"
          ],
          "name": "stdout"
        }
      ]
    },
    {
      "cell_type": "code",
      "metadata": {
        "id": "Hfj9L17yzn70",
        "colab_type": "code",
        "colab": {}
      },
      "source": [
        ""
      ],
      "execution_count": 0,
      "outputs": []
    }
  ]
}